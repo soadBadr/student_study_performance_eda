{
  "cells": [
    {
      "cell_type": "code",
      "source": [
        "from google.colab import drive\n",
        "drive.mount('/content/drive')"
      ],
      "metadata": {
        "colab": {
          "base_uri": "https://localhost:8080/"
        },
        "id": "DqqjNX_G9tgo",
        "outputId": "f882c233-8b6a-40ac-96f5-da168085ce4d"
      },
      "id": "DqqjNX_G9tgo",
      "execution_count": 1,
      "outputs": [
        {
          "output_type": "stream",
          "name": "stdout",
          "text": [
            "Drive already mounted at /content/drive; to attempt to forcibly remount, call drive.mount(\"/content/drive\", force_remount=True).\n"
          ]
        }
      ]
    },
    {
      "cell_type": "code",
      "source": [
        "!pip install kaggle"
      ],
      "metadata": {
        "colab": {
          "base_uri": "https://localhost:8080/"
        },
        "id": "2OPH5kIn92Ie",
        "outputId": "422c8c81-4d43-45a8-a01d-d9feef686e62"
      },
      "id": "2OPH5kIn92Ie",
      "execution_count": 2,
      "outputs": [
        {
          "output_type": "stream",
          "name": "stdout",
          "text": [
            "Requirement already satisfied: kaggle in /usr/local/lib/python3.10/dist-packages (1.6.12)\n",
            "Requirement already satisfied: six>=1.10 in /usr/local/lib/python3.10/dist-packages (from kaggle) (1.16.0)\n",
            "Requirement already satisfied: certifi>=2023.7.22 in /usr/local/lib/python3.10/dist-packages (from kaggle) (2024.2.2)\n",
            "Requirement already satisfied: python-dateutil in /usr/local/lib/python3.10/dist-packages (from kaggle) (2.8.2)\n",
            "Requirement already satisfied: requests in /usr/local/lib/python3.10/dist-packages (from kaggle) (2.31.0)\n",
            "Requirement already satisfied: tqdm in /usr/local/lib/python3.10/dist-packages (from kaggle) (4.66.2)\n",
            "Requirement already satisfied: python-slugify in /usr/local/lib/python3.10/dist-packages (from kaggle) (8.0.4)\n",
            "Requirement already satisfied: urllib3 in /usr/local/lib/python3.10/dist-packages (from kaggle) (2.0.7)\n",
            "Requirement already satisfied: bleach in /usr/local/lib/python3.10/dist-packages (from kaggle) (6.1.0)\n",
            "Requirement already satisfied: webencodings in /usr/local/lib/python3.10/dist-packages (from bleach->kaggle) (0.5.1)\n",
            "Requirement already satisfied: text-unidecode>=1.3 in /usr/local/lib/python3.10/dist-packages (from python-slugify->kaggle) (1.3)\n",
            "Requirement already satisfied: charset-normalizer<4,>=2 in /usr/local/lib/python3.10/dist-packages (from requests->kaggle) (3.3.2)\n",
            "Requirement already satisfied: idna<4,>=2.5 in /usr/local/lib/python3.10/dist-packages (from requests->kaggle) (3.7)\n"
          ]
        }
      ]
    },
    {
      "cell_type": "code",
      "source": [
        "import os\n",
        "os.environ['KAGGLE_CONFIG_DIR'] = '/content/drive/MyDrive/Kaggle'"
      ],
      "metadata": {
        "id": "ooHdqke1-CIg"
      },
      "id": "ooHdqke1-CIg",
      "execution_count": 3,
      "outputs": []
    },
    {
      "cell_type": "code",
      "source": [
        "!kaggle datasets download -d bhavikjikadara/student-study-performance"
      ],
      "metadata": {
        "colab": {
          "base_uri": "https://localhost:8080/"
        },
        "id": "hfrZCOqI-F5-",
        "outputId": "5682b6e3-2d8c-424e-d8fd-cfdc39310d8d"
      },
      "id": "hfrZCOqI-F5-",
      "execution_count": 4,
      "outputs": [
        {
          "output_type": "stream",
          "name": "stdout",
          "text": [
            "Dataset URL: https://www.kaggle.com/datasets/bhavikjikadara/student-study-performance\n",
            "License(s): Attribution 4.0 International (CC BY 4.0)\n",
            "student-study-performance.zip: Skipping, found more recently modified local copy (use --force to force download)\n"
          ]
        }
      ]
    },
    {
      "cell_type": "code",
      "source": [
        "import zipfile\n",
        "\n",
        "file_path = '/content/drive/MyDrive/Kaggle/student-study-performance.zip'\n",
        "\n",
        "with zipfile.ZipFile(file_path, 'r') as zip_ref:\n",
        "    zip_ref.extractall('/content/drive/MyDrive/Kaggle')"
      ],
      "metadata": {
        "id": "U4CovNC__U1a"
      },
      "id": "U4CovNC__U1a",
      "execution_count": 5,
      "outputs": []
    },
    {
      "cell_type": "code",
      "execution_count": 6,
      "id": "f314737e",
      "metadata": {
        "execution": {
          "iopub.execute_input": "2024-05-01T16:42:09.213265Z",
          "iopub.status.busy": "2024-05-01T16:42:09.212766Z",
          "iopub.status.idle": "2024-05-01T16:42:10.854270Z",
          "shell.execute_reply": "2024-05-01T16:42:10.852961Z"
        },
        "papermill": {
          "duration": 1.649748,
          "end_time": "2024-05-01T16:42:10.856758",
          "exception": false,
          "start_time": "2024-05-01T16:42:09.207010",
          "status": "completed"
        },
        "tags": [],
        "id": "f314737e"
      },
      "outputs": [],
      "source": [
        "import numpy as np\n",
        "import pandas as pd\n",
        "import matplotlib.pyplot as plt\n",
        "import seaborn as sns\n",
        "import plotly.express as px"
      ]
    },
    {
      "cell_type": "code",
      "source": [
        "df = pd.read_csv('/content/drive/MyDrive/Kaggle/study_performance.csv')"
      ],
      "metadata": {
        "id": "DzcTX9jjA_3L"
      },
      "id": "DzcTX9jjA_3L",
      "execution_count": 7,
      "outputs": []
    },
    {
      "cell_type": "code",
      "execution_count": 8,
      "id": "22f7227f",
      "metadata": {
        "execution": {
          "iopub.execute_input": "2024-05-01T16:42:10.899037Z",
          "iopub.status.busy": "2024-05-01T16:42:10.898723Z",
          "iopub.status.idle": "2024-05-01T16:42:10.906803Z",
          "shell.execute_reply": "2024-05-01T16:42:10.905852Z"
        },
        "papermill": {
          "duration": 0.015127,
          "end_time": "2024-05-01T16:42:10.908590",
          "exception": false,
          "start_time": "2024-05-01T16:42:10.893463",
          "status": "completed"
        },
        "tags": [],
        "id": "22f7227f",
        "outputId": "bf049d68-b94e-47d7-bb98-c179654e93a4",
        "colab": {
          "base_uri": "https://localhost:8080/"
        }
      },
      "outputs": [
        {
          "output_type": "execute_result",
          "data": {
            "text/plain": [
              "(1000, 8)"
            ]
          },
          "metadata": {},
          "execution_count": 8
        }
      ],
      "source": [
        "df.shape"
      ]
    },
    {
      "cell_type": "code",
      "execution_count": 9,
      "id": "54968a30",
      "metadata": {
        "execution": {
          "iopub.execute_input": "2024-05-01T16:42:10.918666Z",
          "iopub.status.busy": "2024-05-01T16:42:10.918336Z",
          "iopub.status.idle": "2024-05-01T16:42:10.925597Z",
          "shell.execute_reply": "2024-05-01T16:42:10.924781Z"
        },
        "papermill": {
          "duration": 0.014213,
          "end_time": "2024-05-01T16:42:10.927267",
          "exception": false,
          "start_time": "2024-05-01T16:42:10.913054",
          "status": "completed"
        },
        "tags": [],
        "id": "54968a30",
        "outputId": "3e345e18-1c25-4a52-f5b5-3381c325e88c",
        "colab": {
          "base_uri": "https://localhost:8080/"
        }
      },
      "outputs": [
        {
          "output_type": "execute_result",
          "data": {
            "text/plain": [
              "Index(['gender', 'race_ethnicity', 'parental_level_of_education', 'lunch',\n",
              "       'test_preparation_course', 'math_score', 'reading_score',\n",
              "       'writing_score'],\n",
              "      dtype='object')"
            ]
          },
          "metadata": {},
          "execution_count": 9
        }
      ],
      "source": [
        "df.columns"
      ]
    },
    {
      "cell_type": "code",
      "execution_count": 10,
      "id": "f823cc85",
      "metadata": {
        "execution": {
          "iopub.execute_input": "2024-05-01T16:42:10.937276Z",
          "iopub.status.busy": "2024-05-01T16:42:10.936967Z",
          "iopub.status.idle": "2024-05-01T16:42:10.954193Z",
          "shell.execute_reply": "2024-05-01T16:42:10.953230Z"
        },
        "papermill": {
          "duration": 0.024102,
          "end_time": "2024-05-01T16:42:10.955858",
          "exception": false,
          "start_time": "2024-05-01T16:42:10.931756",
          "status": "completed"
        },
        "tags": [],
        "id": "f823cc85",
        "outputId": "df60ed45-3826-4dd5-9734-476796bb9b05",
        "colab": {
          "base_uri": "https://localhost:8080/",
          "height": 206
        }
      },
      "outputs": [
        {
          "output_type": "execute_result",
          "data": {
            "text/plain": [
              "   gender race_ethnicity parental_level_of_education         lunch  \\\n",
              "0  female        group B           bachelor's degree      standard   \n",
              "1  female        group C                some college      standard   \n",
              "2  female        group B             master's degree      standard   \n",
              "3    male        group A          associate's degree  free/reduced   \n",
              "4    male        group C                some college      standard   \n",
              "\n",
              "  test_preparation_course  math_score  reading_score  writing_score  \n",
              "0                    none          72             72             74  \n",
              "1               completed          69             90             88  \n",
              "2                    none          90             95             93  \n",
              "3                    none          47             57             44  \n",
              "4                    none          76             78             75  "
            ],
            "text/html": [
              "\n",
              "  <div id=\"df-f06cb691-3cf9-426c-a125-f411149929cc\" class=\"colab-df-container\">\n",
              "    <div>\n",
              "<style scoped>\n",
              "    .dataframe tbody tr th:only-of-type {\n",
              "        vertical-align: middle;\n",
              "    }\n",
              "\n",
              "    .dataframe tbody tr th {\n",
              "        vertical-align: top;\n",
              "    }\n",
              "\n",
              "    .dataframe thead th {\n",
              "        text-align: right;\n",
              "    }\n",
              "</style>\n",
              "<table border=\"1\" class=\"dataframe\">\n",
              "  <thead>\n",
              "    <tr style=\"text-align: right;\">\n",
              "      <th></th>\n",
              "      <th>gender</th>\n",
              "      <th>race_ethnicity</th>\n",
              "      <th>parental_level_of_education</th>\n",
              "      <th>lunch</th>\n",
              "      <th>test_preparation_course</th>\n",
              "      <th>math_score</th>\n",
              "      <th>reading_score</th>\n",
              "      <th>writing_score</th>\n",
              "    </tr>\n",
              "  </thead>\n",
              "  <tbody>\n",
              "    <tr>\n",
              "      <th>0</th>\n",
              "      <td>female</td>\n",
              "      <td>group B</td>\n",
              "      <td>bachelor's degree</td>\n",
              "      <td>standard</td>\n",
              "      <td>none</td>\n",
              "      <td>72</td>\n",
              "      <td>72</td>\n",
              "      <td>74</td>\n",
              "    </tr>\n",
              "    <tr>\n",
              "      <th>1</th>\n",
              "      <td>female</td>\n",
              "      <td>group C</td>\n",
              "      <td>some college</td>\n",
              "      <td>standard</td>\n",
              "      <td>completed</td>\n",
              "      <td>69</td>\n",
              "      <td>90</td>\n",
              "      <td>88</td>\n",
              "    </tr>\n",
              "    <tr>\n",
              "      <th>2</th>\n",
              "      <td>female</td>\n",
              "      <td>group B</td>\n",
              "      <td>master's degree</td>\n",
              "      <td>standard</td>\n",
              "      <td>none</td>\n",
              "      <td>90</td>\n",
              "      <td>95</td>\n",
              "      <td>93</td>\n",
              "    </tr>\n",
              "    <tr>\n",
              "      <th>3</th>\n",
              "      <td>male</td>\n",
              "      <td>group A</td>\n",
              "      <td>associate's degree</td>\n",
              "      <td>free/reduced</td>\n",
              "      <td>none</td>\n",
              "      <td>47</td>\n",
              "      <td>57</td>\n",
              "      <td>44</td>\n",
              "    </tr>\n",
              "    <tr>\n",
              "      <th>4</th>\n",
              "      <td>male</td>\n",
              "      <td>group C</td>\n",
              "      <td>some college</td>\n",
              "      <td>standard</td>\n",
              "      <td>none</td>\n",
              "      <td>76</td>\n",
              "      <td>78</td>\n",
              "      <td>75</td>\n",
              "    </tr>\n",
              "  </tbody>\n",
              "</table>\n",
              "</div>\n",
              "    <div class=\"colab-df-buttons\">\n",
              "\n",
              "  <div class=\"colab-df-container\">\n",
              "    <button class=\"colab-df-convert\" onclick=\"convertToInteractive('df-f06cb691-3cf9-426c-a125-f411149929cc')\"\n",
              "            title=\"Convert this dataframe to an interactive table.\"\n",
              "            style=\"display:none;\">\n",
              "\n",
              "  <svg xmlns=\"http://www.w3.org/2000/svg\" height=\"24px\" viewBox=\"0 -960 960 960\">\n",
              "    <path d=\"M120-120v-720h720v720H120Zm60-500h600v-160H180v160Zm220 220h160v-160H400v160Zm0 220h160v-160H400v160ZM180-400h160v-160H180v160Zm440 0h160v-160H620v160ZM180-180h160v-160H180v160Zm440 0h160v-160H620v160Z\"/>\n",
              "  </svg>\n",
              "    </button>\n",
              "\n",
              "  <style>\n",
              "    .colab-df-container {\n",
              "      display:flex;\n",
              "      gap: 12px;\n",
              "    }\n",
              "\n",
              "    .colab-df-convert {\n",
              "      background-color: #E8F0FE;\n",
              "      border: none;\n",
              "      border-radius: 50%;\n",
              "      cursor: pointer;\n",
              "      display: none;\n",
              "      fill: #1967D2;\n",
              "      height: 32px;\n",
              "      padding: 0 0 0 0;\n",
              "      width: 32px;\n",
              "    }\n",
              "\n",
              "    .colab-df-convert:hover {\n",
              "      background-color: #E2EBFA;\n",
              "      box-shadow: 0px 1px 2px rgba(60, 64, 67, 0.3), 0px 1px 3px 1px rgba(60, 64, 67, 0.15);\n",
              "      fill: #174EA6;\n",
              "    }\n",
              "\n",
              "    .colab-df-buttons div {\n",
              "      margin-bottom: 4px;\n",
              "    }\n",
              "\n",
              "    [theme=dark] .colab-df-convert {\n",
              "      background-color: #3B4455;\n",
              "      fill: #D2E3FC;\n",
              "    }\n",
              "\n",
              "    [theme=dark] .colab-df-convert:hover {\n",
              "      background-color: #434B5C;\n",
              "      box-shadow: 0px 1px 3px 1px rgba(0, 0, 0, 0.15);\n",
              "      filter: drop-shadow(0px 1px 2px rgba(0, 0, 0, 0.3));\n",
              "      fill: #FFFFFF;\n",
              "    }\n",
              "  </style>\n",
              "\n",
              "    <script>\n",
              "      const buttonEl =\n",
              "        document.querySelector('#df-f06cb691-3cf9-426c-a125-f411149929cc button.colab-df-convert');\n",
              "      buttonEl.style.display =\n",
              "        google.colab.kernel.accessAllowed ? 'block' : 'none';\n",
              "\n",
              "      async function convertToInteractive(key) {\n",
              "        const element = document.querySelector('#df-f06cb691-3cf9-426c-a125-f411149929cc');\n",
              "        const dataTable =\n",
              "          await google.colab.kernel.invokeFunction('convertToInteractive',\n",
              "                                                    [key], {});\n",
              "        if (!dataTable) return;\n",
              "\n",
              "        const docLinkHtml = 'Like what you see? Visit the ' +\n",
              "          '<a target=\"_blank\" href=https://colab.research.google.com/notebooks/data_table.ipynb>data table notebook</a>'\n",
              "          + ' to learn more about interactive tables.';\n",
              "        element.innerHTML = '';\n",
              "        dataTable['output_type'] = 'display_data';\n",
              "        await google.colab.output.renderOutput(dataTable, element);\n",
              "        const docLink = document.createElement('div');\n",
              "        docLink.innerHTML = docLinkHtml;\n",
              "        element.appendChild(docLink);\n",
              "      }\n",
              "    </script>\n",
              "  </div>\n",
              "\n",
              "\n",
              "<div id=\"df-40cd2289-3979-43df-92f1-2aeb288e2b21\">\n",
              "  <button class=\"colab-df-quickchart\" onclick=\"quickchart('df-40cd2289-3979-43df-92f1-2aeb288e2b21')\"\n",
              "            title=\"Suggest charts\"\n",
              "            style=\"display:none;\">\n",
              "\n",
              "<svg xmlns=\"http://www.w3.org/2000/svg\" height=\"24px\"viewBox=\"0 0 24 24\"\n",
              "     width=\"24px\">\n",
              "    <g>\n",
              "        <path d=\"M19 3H5c-1.1 0-2 .9-2 2v14c0 1.1.9 2 2 2h14c1.1 0 2-.9 2-2V5c0-1.1-.9-2-2-2zM9 17H7v-7h2v7zm4 0h-2V7h2v10zm4 0h-2v-4h2v4z\"/>\n",
              "    </g>\n",
              "</svg>\n",
              "  </button>\n",
              "\n",
              "<style>\n",
              "  .colab-df-quickchart {\n",
              "      --bg-color: #E8F0FE;\n",
              "      --fill-color: #1967D2;\n",
              "      --hover-bg-color: #E2EBFA;\n",
              "      --hover-fill-color: #174EA6;\n",
              "      --disabled-fill-color: #AAA;\n",
              "      --disabled-bg-color: #DDD;\n",
              "  }\n",
              "\n",
              "  [theme=dark] .colab-df-quickchart {\n",
              "      --bg-color: #3B4455;\n",
              "      --fill-color: #D2E3FC;\n",
              "      --hover-bg-color: #434B5C;\n",
              "      --hover-fill-color: #FFFFFF;\n",
              "      --disabled-bg-color: #3B4455;\n",
              "      --disabled-fill-color: #666;\n",
              "  }\n",
              "\n",
              "  .colab-df-quickchart {\n",
              "    background-color: var(--bg-color);\n",
              "    border: none;\n",
              "    border-radius: 50%;\n",
              "    cursor: pointer;\n",
              "    display: none;\n",
              "    fill: var(--fill-color);\n",
              "    height: 32px;\n",
              "    padding: 0;\n",
              "    width: 32px;\n",
              "  }\n",
              "\n",
              "  .colab-df-quickchart:hover {\n",
              "    background-color: var(--hover-bg-color);\n",
              "    box-shadow: 0 1px 2px rgba(60, 64, 67, 0.3), 0 1px 3px 1px rgba(60, 64, 67, 0.15);\n",
              "    fill: var(--button-hover-fill-color);\n",
              "  }\n",
              "\n",
              "  .colab-df-quickchart-complete:disabled,\n",
              "  .colab-df-quickchart-complete:disabled:hover {\n",
              "    background-color: var(--disabled-bg-color);\n",
              "    fill: var(--disabled-fill-color);\n",
              "    box-shadow: none;\n",
              "  }\n",
              "\n",
              "  .colab-df-spinner {\n",
              "    border: 2px solid var(--fill-color);\n",
              "    border-color: transparent;\n",
              "    border-bottom-color: var(--fill-color);\n",
              "    animation:\n",
              "      spin 1s steps(1) infinite;\n",
              "  }\n",
              "\n",
              "  @keyframes spin {\n",
              "    0% {\n",
              "      border-color: transparent;\n",
              "      border-bottom-color: var(--fill-color);\n",
              "      border-left-color: var(--fill-color);\n",
              "    }\n",
              "    20% {\n",
              "      border-color: transparent;\n",
              "      border-left-color: var(--fill-color);\n",
              "      border-top-color: var(--fill-color);\n",
              "    }\n",
              "    30% {\n",
              "      border-color: transparent;\n",
              "      border-left-color: var(--fill-color);\n",
              "      border-top-color: var(--fill-color);\n",
              "      border-right-color: var(--fill-color);\n",
              "    }\n",
              "    40% {\n",
              "      border-color: transparent;\n",
              "      border-right-color: var(--fill-color);\n",
              "      border-top-color: var(--fill-color);\n",
              "    }\n",
              "    60% {\n",
              "      border-color: transparent;\n",
              "      border-right-color: var(--fill-color);\n",
              "    }\n",
              "    80% {\n",
              "      border-color: transparent;\n",
              "      border-right-color: var(--fill-color);\n",
              "      border-bottom-color: var(--fill-color);\n",
              "    }\n",
              "    90% {\n",
              "      border-color: transparent;\n",
              "      border-bottom-color: var(--fill-color);\n",
              "    }\n",
              "  }\n",
              "</style>\n",
              "\n",
              "  <script>\n",
              "    async function quickchart(key) {\n",
              "      const quickchartButtonEl =\n",
              "        document.querySelector('#' + key + ' button');\n",
              "      quickchartButtonEl.disabled = true;  // To prevent multiple clicks.\n",
              "      quickchartButtonEl.classList.add('colab-df-spinner');\n",
              "      try {\n",
              "        const charts = await google.colab.kernel.invokeFunction(\n",
              "            'suggestCharts', [key], {});\n",
              "      } catch (error) {\n",
              "        console.error('Error during call to suggestCharts:', error);\n",
              "      }\n",
              "      quickchartButtonEl.classList.remove('colab-df-spinner');\n",
              "      quickchartButtonEl.classList.add('colab-df-quickchart-complete');\n",
              "    }\n",
              "    (() => {\n",
              "      let quickchartButtonEl =\n",
              "        document.querySelector('#df-40cd2289-3979-43df-92f1-2aeb288e2b21 button');\n",
              "      quickchartButtonEl.style.display =\n",
              "        google.colab.kernel.accessAllowed ? 'block' : 'none';\n",
              "    })();\n",
              "  </script>\n",
              "</div>\n",
              "    </div>\n",
              "  </div>\n"
            ],
            "application/vnd.google.colaboratory.intrinsic+json": {
              "type": "dataframe",
              "variable_name": "df",
              "summary": "{\n  \"name\": \"df\",\n  \"rows\": 1000,\n  \"fields\": [\n    {\n      \"column\": \"gender\",\n      \"properties\": {\n        \"dtype\": \"category\",\n        \"num_unique_values\": 2,\n        \"samples\": [\n          \"male\",\n          \"female\"\n        ],\n        \"semantic_type\": \"\",\n        \"description\": \"\"\n      }\n    },\n    {\n      \"column\": \"race_ethnicity\",\n      \"properties\": {\n        \"dtype\": \"category\",\n        \"num_unique_values\": 5,\n        \"samples\": [\n          \"group C\",\n          \"group E\"\n        ],\n        \"semantic_type\": \"\",\n        \"description\": \"\"\n      }\n    },\n    {\n      \"column\": \"parental_level_of_education\",\n      \"properties\": {\n        \"dtype\": \"category\",\n        \"num_unique_values\": 6,\n        \"samples\": [\n          \"bachelor's degree\",\n          \"some college\"\n        ],\n        \"semantic_type\": \"\",\n        \"description\": \"\"\n      }\n    },\n    {\n      \"column\": \"lunch\",\n      \"properties\": {\n        \"dtype\": \"category\",\n        \"num_unique_values\": 2,\n        \"samples\": [\n          \"free/reduced\",\n          \"standard\"\n        ],\n        \"semantic_type\": \"\",\n        \"description\": \"\"\n      }\n    },\n    {\n      \"column\": \"test_preparation_course\",\n      \"properties\": {\n        \"dtype\": \"category\",\n        \"num_unique_values\": 2,\n        \"samples\": [\n          \"completed\",\n          \"none\"\n        ],\n        \"semantic_type\": \"\",\n        \"description\": \"\"\n      }\n    },\n    {\n      \"column\": \"math_score\",\n      \"properties\": {\n        \"dtype\": \"number\",\n        \"std\": 15,\n        \"min\": 0,\n        \"max\": 100,\n        \"num_unique_values\": 81,\n        \"samples\": [\n          55,\n          72\n        ],\n        \"semantic_type\": \"\",\n        \"description\": \"\"\n      }\n    },\n    {\n      \"column\": \"reading_score\",\n      \"properties\": {\n        \"dtype\": \"number\",\n        \"std\": 14,\n        \"min\": 17,\n        \"max\": 100,\n        \"num_unique_values\": 72,\n        \"samples\": [\n          78,\n          23\n        ],\n        \"semantic_type\": \"\",\n        \"description\": \"\"\n      }\n    },\n    {\n      \"column\": \"writing_score\",\n      \"properties\": {\n        \"dtype\": \"number\",\n        \"std\": 15,\n        \"min\": 10,\n        \"max\": 100,\n        \"num_unique_values\": 77,\n        \"samples\": [\n          75,\n          76\n        ],\n        \"semantic_type\": \"\",\n        \"description\": \"\"\n      }\n    }\n  ]\n}"
            }
          },
          "metadata": {},
          "execution_count": 10
        }
      ],
      "source": [
        "df.head()"
      ]
    },
    {
      "cell_type": "code",
      "execution_count": 11,
      "id": "c8817233",
      "metadata": {
        "execution": {
          "iopub.execute_input": "2024-05-01T16:42:10.966818Z",
          "iopub.status.busy": "2024-05-01T16:42:10.966445Z",
          "iopub.status.idle": "2024-05-01T16:42:10.977754Z",
          "shell.execute_reply": "2024-05-01T16:42:10.976883Z"
        },
        "papermill": {
          "duration": 0.019321,
          "end_time": "2024-05-01T16:42:10.979919",
          "exception": false,
          "start_time": "2024-05-01T16:42:10.960598",
          "status": "completed"
        },
        "tags": [],
        "id": "c8817233",
        "outputId": "9c24fe87-02c3-4393-99d6-e6442a29a045",
        "colab": {
          "base_uri": "https://localhost:8080/",
          "height": 206
        }
      },
      "outputs": [
        {
          "output_type": "execute_result",
          "data": {
            "text/plain": [
              "     gender race_ethnicity parental_level_of_education         lunch  \\\n",
              "995  female        group E             master's degree      standard   \n",
              "996    male        group C                 high school  free/reduced   \n",
              "997  female        group C                 high school  free/reduced   \n",
              "998  female        group D                some college      standard   \n",
              "999  female        group D                some college  free/reduced   \n",
              "\n",
              "    test_preparation_course  math_score  reading_score  writing_score  \n",
              "995               completed          88             99             95  \n",
              "996                    none          62             55             55  \n",
              "997               completed          59             71             65  \n",
              "998               completed          68             78             77  \n",
              "999                    none          77             86             86  "
            ],
            "text/html": [
              "\n",
              "  <div id=\"df-07430348-2a68-4052-a73e-62078ecdcb04\" class=\"colab-df-container\">\n",
              "    <div>\n",
              "<style scoped>\n",
              "    .dataframe tbody tr th:only-of-type {\n",
              "        vertical-align: middle;\n",
              "    }\n",
              "\n",
              "    .dataframe tbody tr th {\n",
              "        vertical-align: top;\n",
              "    }\n",
              "\n",
              "    .dataframe thead th {\n",
              "        text-align: right;\n",
              "    }\n",
              "</style>\n",
              "<table border=\"1\" class=\"dataframe\">\n",
              "  <thead>\n",
              "    <tr style=\"text-align: right;\">\n",
              "      <th></th>\n",
              "      <th>gender</th>\n",
              "      <th>race_ethnicity</th>\n",
              "      <th>parental_level_of_education</th>\n",
              "      <th>lunch</th>\n",
              "      <th>test_preparation_course</th>\n",
              "      <th>math_score</th>\n",
              "      <th>reading_score</th>\n",
              "      <th>writing_score</th>\n",
              "    </tr>\n",
              "  </thead>\n",
              "  <tbody>\n",
              "    <tr>\n",
              "      <th>995</th>\n",
              "      <td>female</td>\n",
              "      <td>group E</td>\n",
              "      <td>master's degree</td>\n",
              "      <td>standard</td>\n",
              "      <td>completed</td>\n",
              "      <td>88</td>\n",
              "      <td>99</td>\n",
              "      <td>95</td>\n",
              "    </tr>\n",
              "    <tr>\n",
              "      <th>996</th>\n",
              "      <td>male</td>\n",
              "      <td>group C</td>\n",
              "      <td>high school</td>\n",
              "      <td>free/reduced</td>\n",
              "      <td>none</td>\n",
              "      <td>62</td>\n",
              "      <td>55</td>\n",
              "      <td>55</td>\n",
              "    </tr>\n",
              "    <tr>\n",
              "      <th>997</th>\n",
              "      <td>female</td>\n",
              "      <td>group C</td>\n",
              "      <td>high school</td>\n",
              "      <td>free/reduced</td>\n",
              "      <td>completed</td>\n",
              "      <td>59</td>\n",
              "      <td>71</td>\n",
              "      <td>65</td>\n",
              "    </tr>\n",
              "    <tr>\n",
              "      <th>998</th>\n",
              "      <td>female</td>\n",
              "      <td>group D</td>\n",
              "      <td>some college</td>\n",
              "      <td>standard</td>\n",
              "      <td>completed</td>\n",
              "      <td>68</td>\n",
              "      <td>78</td>\n",
              "      <td>77</td>\n",
              "    </tr>\n",
              "    <tr>\n",
              "      <th>999</th>\n",
              "      <td>female</td>\n",
              "      <td>group D</td>\n",
              "      <td>some college</td>\n",
              "      <td>free/reduced</td>\n",
              "      <td>none</td>\n",
              "      <td>77</td>\n",
              "      <td>86</td>\n",
              "      <td>86</td>\n",
              "    </tr>\n",
              "  </tbody>\n",
              "</table>\n",
              "</div>\n",
              "    <div class=\"colab-df-buttons\">\n",
              "\n",
              "  <div class=\"colab-df-container\">\n",
              "    <button class=\"colab-df-convert\" onclick=\"convertToInteractive('df-07430348-2a68-4052-a73e-62078ecdcb04')\"\n",
              "            title=\"Convert this dataframe to an interactive table.\"\n",
              "            style=\"display:none;\">\n",
              "\n",
              "  <svg xmlns=\"http://www.w3.org/2000/svg\" height=\"24px\" viewBox=\"0 -960 960 960\">\n",
              "    <path d=\"M120-120v-720h720v720H120Zm60-500h600v-160H180v160Zm220 220h160v-160H400v160Zm0 220h160v-160H400v160ZM180-400h160v-160H180v160Zm440 0h160v-160H620v160ZM180-180h160v-160H180v160Zm440 0h160v-160H620v160Z\"/>\n",
              "  </svg>\n",
              "    </button>\n",
              "\n",
              "  <style>\n",
              "    .colab-df-container {\n",
              "      display:flex;\n",
              "      gap: 12px;\n",
              "    }\n",
              "\n",
              "    .colab-df-convert {\n",
              "      background-color: #E8F0FE;\n",
              "      border: none;\n",
              "      border-radius: 50%;\n",
              "      cursor: pointer;\n",
              "      display: none;\n",
              "      fill: #1967D2;\n",
              "      height: 32px;\n",
              "      padding: 0 0 0 0;\n",
              "      width: 32px;\n",
              "    }\n",
              "\n",
              "    .colab-df-convert:hover {\n",
              "      background-color: #E2EBFA;\n",
              "      box-shadow: 0px 1px 2px rgba(60, 64, 67, 0.3), 0px 1px 3px 1px rgba(60, 64, 67, 0.15);\n",
              "      fill: #174EA6;\n",
              "    }\n",
              "\n",
              "    .colab-df-buttons div {\n",
              "      margin-bottom: 4px;\n",
              "    }\n",
              "\n",
              "    [theme=dark] .colab-df-convert {\n",
              "      background-color: #3B4455;\n",
              "      fill: #D2E3FC;\n",
              "    }\n",
              "\n",
              "    [theme=dark] .colab-df-convert:hover {\n",
              "      background-color: #434B5C;\n",
              "      box-shadow: 0px 1px 3px 1px rgba(0, 0, 0, 0.15);\n",
              "      filter: drop-shadow(0px 1px 2px rgba(0, 0, 0, 0.3));\n",
              "      fill: #FFFFFF;\n",
              "    }\n",
              "  </style>\n",
              "\n",
              "    <script>\n",
              "      const buttonEl =\n",
              "        document.querySelector('#df-07430348-2a68-4052-a73e-62078ecdcb04 button.colab-df-convert');\n",
              "      buttonEl.style.display =\n",
              "        google.colab.kernel.accessAllowed ? 'block' : 'none';\n",
              "\n",
              "      async function convertToInteractive(key) {\n",
              "        const element = document.querySelector('#df-07430348-2a68-4052-a73e-62078ecdcb04');\n",
              "        const dataTable =\n",
              "          await google.colab.kernel.invokeFunction('convertToInteractive',\n",
              "                                                    [key], {});\n",
              "        if (!dataTable) return;\n",
              "\n",
              "        const docLinkHtml = 'Like what you see? Visit the ' +\n",
              "          '<a target=\"_blank\" href=https://colab.research.google.com/notebooks/data_table.ipynb>data table notebook</a>'\n",
              "          + ' to learn more about interactive tables.';\n",
              "        element.innerHTML = '';\n",
              "        dataTable['output_type'] = 'display_data';\n",
              "        await google.colab.output.renderOutput(dataTable, element);\n",
              "        const docLink = document.createElement('div');\n",
              "        docLink.innerHTML = docLinkHtml;\n",
              "        element.appendChild(docLink);\n",
              "      }\n",
              "    </script>\n",
              "  </div>\n",
              "\n",
              "\n",
              "<div id=\"df-d28ade34-97a6-4e4b-b9f3-ca65e015b6cf\">\n",
              "  <button class=\"colab-df-quickchart\" onclick=\"quickchart('df-d28ade34-97a6-4e4b-b9f3-ca65e015b6cf')\"\n",
              "            title=\"Suggest charts\"\n",
              "            style=\"display:none;\">\n",
              "\n",
              "<svg xmlns=\"http://www.w3.org/2000/svg\" height=\"24px\"viewBox=\"0 0 24 24\"\n",
              "     width=\"24px\">\n",
              "    <g>\n",
              "        <path d=\"M19 3H5c-1.1 0-2 .9-2 2v14c0 1.1.9 2 2 2h14c1.1 0 2-.9 2-2V5c0-1.1-.9-2-2-2zM9 17H7v-7h2v7zm4 0h-2V7h2v10zm4 0h-2v-4h2v4z\"/>\n",
              "    </g>\n",
              "</svg>\n",
              "  </button>\n",
              "\n",
              "<style>\n",
              "  .colab-df-quickchart {\n",
              "      --bg-color: #E8F0FE;\n",
              "      --fill-color: #1967D2;\n",
              "      --hover-bg-color: #E2EBFA;\n",
              "      --hover-fill-color: #174EA6;\n",
              "      --disabled-fill-color: #AAA;\n",
              "      --disabled-bg-color: #DDD;\n",
              "  }\n",
              "\n",
              "  [theme=dark] .colab-df-quickchart {\n",
              "      --bg-color: #3B4455;\n",
              "      --fill-color: #D2E3FC;\n",
              "      --hover-bg-color: #434B5C;\n",
              "      --hover-fill-color: #FFFFFF;\n",
              "      --disabled-bg-color: #3B4455;\n",
              "      --disabled-fill-color: #666;\n",
              "  }\n",
              "\n",
              "  .colab-df-quickchart {\n",
              "    background-color: var(--bg-color);\n",
              "    border: none;\n",
              "    border-radius: 50%;\n",
              "    cursor: pointer;\n",
              "    display: none;\n",
              "    fill: var(--fill-color);\n",
              "    height: 32px;\n",
              "    padding: 0;\n",
              "    width: 32px;\n",
              "  }\n",
              "\n",
              "  .colab-df-quickchart:hover {\n",
              "    background-color: var(--hover-bg-color);\n",
              "    box-shadow: 0 1px 2px rgba(60, 64, 67, 0.3), 0 1px 3px 1px rgba(60, 64, 67, 0.15);\n",
              "    fill: var(--button-hover-fill-color);\n",
              "  }\n",
              "\n",
              "  .colab-df-quickchart-complete:disabled,\n",
              "  .colab-df-quickchart-complete:disabled:hover {\n",
              "    background-color: var(--disabled-bg-color);\n",
              "    fill: var(--disabled-fill-color);\n",
              "    box-shadow: none;\n",
              "  }\n",
              "\n",
              "  .colab-df-spinner {\n",
              "    border: 2px solid var(--fill-color);\n",
              "    border-color: transparent;\n",
              "    border-bottom-color: var(--fill-color);\n",
              "    animation:\n",
              "      spin 1s steps(1) infinite;\n",
              "  }\n",
              "\n",
              "  @keyframes spin {\n",
              "    0% {\n",
              "      border-color: transparent;\n",
              "      border-bottom-color: var(--fill-color);\n",
              "      border-left-color: var(--fill-color);\n",
              "    }\n",
              "    20% {\n",
              "      border-color: transparent;\n",
              "      border-left-color: var(--fill-color);\n",
              "      border-top-color: var(--fill-color);\n",
              "    }\n",
              "    30% {\n",
              "      border-color: transparent;\n",
              "      border-left-color: var(--fill-color);\n",
              "      border-top-color: var(--fill-color);\n",
              "      border-right-color: var(--fill-color);\n",
              "    }\n",
              "    40% {\n",
              "      border-color: transparent;\n",
              "      border-right-color: var(--fill-color);\n",
              "      border-top-color: var(--fill-color);\n",
              "    }\n",
              "    60% {\n",
              "      border-color: transparent;\n",
              "      border-right-color: var(--fill-color);\n",
              "    }\n",
              "    80% {\n",
              "      border-color: transparent;\n",
              "      border-right-color: var(--fill-color);\n",
              "      border-bottom-color: var(--fill-color);\n",
              "    }\n",
              "    90% {\n",
              "      border-color: transparent;\n",
              "      border-bottom-color: var(--fill-color);\n",
              "    }\n",
              "  }\n",
              "</style>\n",
              "\n",
              "  <script>\n",
              "    async function quickchart(key) {\n",
              "      const quickchartButtonEl =\n",
              "        document.querySelector('#' + key + ' button');\n",
              "      quickchartButtonEl.disabled = true;  // To prevent multiple clicks.\n",
              "      quickchartButtonEl.classList.add('colab-df-spinner');\n",
              "      try {\n",
              "        const charts = await google.colab.kernel.invokeFunction(\n",
              "            'suggestCharts', [key], {});\n",
              "      } catch (error) {\n",
              "        console.error('Error during call to suggestCharts:', error);\n",
              "      }\n",
              "      quickchartButtonEl.classList.remove('colab-df-spinner');\n",
              "      quickchartButtonEl.classList.add('colab-df-quickchart-complete');\n",
              "    }\n",
              "    (() => {\n",
              "      let quickchartButtonEl =\n",
              "        document.querySelector('#df-d28ade34-97a6-4e4b-b9f3-ca65e015b6cf button');\n",
              "      quickchartButtonEl.style.display =\n",
              "        google.colab.kernel.accessAllowed ? 'block' : 'none';\n",
              "    })();\n",
              "  </script>\n",
              "</div>\n",
              "    </div>\n",
              "  </div>\n"
            ],
            "application/vnd.google.colaboratory.intrinsic+json": {
              "type": "dataframe",
              "summary": "{\n  \"name\": \"df\",\n  \"rows\": 5,\n  \"fields\": [\n    {\n      \"column\": \"gender\",\n      \"properties\": {\n        \"dtype\": \"category\",\n        \"num_unique_values\": 2,\n        \"samples\": [\n          \"male\",\n          \"female\"\n        ],\n        \"semantic_type\": \"\",\n        \"description\": \"\"\n      }\n    },\n    {\n      \"column\": \"race_ethnicity\",\n      \"properties\": {\n        \"dtype\": \"string\",\n        \"num_unique_values\": 3,\n        \"samples\": [\n          \"group E\",\n          \"group C\"\n        ],\n        \"semantic_type\": \"\",\n        \"description\": \"\"\n      }\n    },\n    {\n      \"column\": \"parental_level_of_education\",\n      \"properties\": {\n        \"dtype\": \"string\",\n        \"num_unique_values\": 3,\n        \"samples\": [\n          \"master's degree\",\n          \"high school\"\n        ],\n        \"semantic_type\": \"\",\n        \"description\": \"\"\n      }\n    },\n    {\n      \"column\": \"lunch\",\n      \"properties\": {\n        \"dtype\": \"category\",\n        \"num_unique_values\": 2,\n        \"samples\": [\n          \"free/reduced\",\n          \"standard\"\n        ],\n        \"semantic_type\": \"\",\n        \"description\": \"\"\n      }\n    },\n    {\n      \"column\": \"test_preparation_course\",\n      \"properties\": {\n        \"dtype\": \"category\",\n        \"num_unique_values\": 2,\n        \"samples\": [\n          \"none\",\n          \"completed\"\n        ],\n        \"semantic_type\": \"\",\n        \"description\": \"\"\n      }\n    },\n    {\n      \"column\": \"math_score\",\n      \"properties\": {\n        \"dtype\": \"number\",\n        \"std\": 11,\n        \"min\": 59,\n        \"max\": 88,\n        \"num_unique_values\": 5,\n        \"samples\": [\n          62,\n          77\n        ],\n        \"semantic_type\": \"\",\n        \"description\": \"\"\n      }\n    },\n    {\n      \"column\": \"reading_score\",\n      \"properties\": {\n        \"dtype\": \"number\",\n        \"std\": 16,\n        \"min\": 55,\n        \"max\": 99,\n        \"num_unique_values\": 5,\n        \"samples\": [\n          55,\n          86\n        ],\n        \"semantic_type\": \"\",\n        \"description\": \"\"\n      }\n    },\n    {\n      \"column\": \"writing_score\",\n      \"properties\": {\n        \"dtype\": \"number\",\n        \"std\": 15,\n        \"min\": 55,\n        \"max\": 95,\n        \"num_unique_values\": 5,\n        \"samples\": [\n          55,\n          86\n        ],\n        \"semantic_type\": \"\",\n        \"description\": \"\"\n      }\n    }\n  ]\n}"
            }
          },
          "metadata": {},
          "execution_count": 11
        }
      ],
      "source": [
        "df.tail(5)"
      ]
    },
    {
      "cell_type": "code",
      "execution_count": 12,
      "id": "7c0e2521",
      "metadata": {
        "execution": {
          "iopub.execute_input": "2024-05-01T16:42:10.991685Z",
          "iopub.status.busy": "2024-05-01T16:42:10.991358Z",
          "iopub.status.idle": "2024-05-01T16:42:11.012934Z",
          "shell.execute_reply": "2024-05-01T16:42:11.012314Z"
        },
        "papermill": {
          "duration": 0.02953,
          "end_time": "2024-05-01T16:42:11.014707",
          "exception": false,
          "start_time": "2024-05-01T16:42:10.985177",
          "status": "completed"
        },
        "tags": [],
        "id": "7c0e2521",
        "outputId": "f5a96fcf-666f-4a21-c697-b33df5c210c2",
        "colab": {
          "base_uri": "https://localhost:8080/"
        }
      },
      "outputs": [
        {
          "output_type": "stream",
          "name": "stdout",
          "text": [
            "<class 'pandas.core.frame.DataFrame'>\n",
            "RangeIndex: 1000 entries, 0 to 999\n",
            "Data columns (total 8 columns):\n",
            " #   Column                       Non-Null Count  Dtype \n",
            "---  ------                       --------------  ----- \n",
            " 0   gender                       1000 non-null   object\n",
            " 1   race_ethnicity               1000 non-null   object\n",
            " 2   parental_level_of_education  1000 non-null   object\n",
            " 3   lunch                        1000 non-null   object\n",
            " 4   test_preparation_course      1000 non-null   object\n",
            " 5   math_score                   1000 non-null   int64 \n",
            " 6   reading_score                1000 non-null   int64 \n",
            " 7   writing_score                1000 non-null   int64 \n",
            "dtypes: int64(3), object(5)\n",
            "memory usage: 62.6+ KB\n"
          ]
        }
      ],
      "source": [
        "df.info()"
      ]
    },
    {
      "cell_type": "code",
      "execution_count": 13,
      "id": "af2b50ec",
      "metadata": {
        "execution": {
          "iopub.execute_input": "2024-05-01T16:42:11.026377Z",
          "iopub.status.busy": "2024-05-01T16:42:11.026078Z",
          "iopub.status.idle": "2024-05-01T16:42:11.113653Z",
          "shell.execute_reply": "2024-05-01T16:42:11.112818Z"
        },
        "papermill": {
          "duration": 0.095754,
          "end_time": "2024-05-01T16:42:11.115748",
          "exception": false,
          "start_time": "2024-05-01T16:42:11.019994",
          "status": "completed"
        },
        "tags": [],
        "id": "af2b50ec",
        "outputId": "fbe4ebb0-1ba6-4292-fb33-dc3afa87a8b9",
        "colab": {
          "base_uri": "https://localhost:8080/",
          "height": 300
        }
      },
      "outputs": [
        {
          "output_type": "execute_result",
          "data": {
            "text/plain": [
              "<pandas.io.formats.style.Styler at 0x7e386338f520>"
            ],
            "text/html": [
              "<style type=\"text/css\">\n",
              "#T_7f841_row0_col0, #T_7f841_row0_col1, #T_7f841_row0_col2 {\n",
              "  background-color: #08306b;\n",
              "  color: #f1f1f1;\n",
              "}\n",
              "#T_7f841_row1_col0, #T_7f841_row5_col0, #T_7f841_row6_col1 {\n",
              "  background-color: #eaf3fb;\n",
              "  color: #000000;\n",
              "}\n",
              "#T_7f841_row1_col1, #T_7f841_row4_col0, #T_7f841_row5_col1 {\n",
              "  background-color: #ecf4fb;\n",
              "  color: #000000;\n",
              "}\n",
              "#T_7f841_row1_col2, #T_7f841_row5_col2 {\n",
              "  background-color: #ebf3fb;\n",
              "  color: #000000;\n",
              "}\n",
              "#T_7f841_row2_col0 {\n",
              "  background-color: #f5f9fe;\n",
              "  color: #000000;\n",
              "}\n",
              "#T_7f841_row2_col1, #T_7f841_row3_col0, #T_7f841_row3_col1, #T_7f841_row3_col2 {\n",
              "  background-color: #f7fbff;\n",
              "  color: #000000;\n",
              "}\n",
              "#T_7f841_row2_col2 {\n",
              "  background-color: #f6faff;\n",
              "  color: #000000;\n",
              "}\n",
              "#T_7f841_row4_col1, #T_7f841_row4_col2 {\n",
              "  background-color: #eef5fc;\n",
              "  color: #000000;\n",
              "}\n",
              "#T_7f841_row6_col0 {\n",
              "  background-color: #e8f1fa;\n",
              "  color: #000000;\n",
              "}\n",
              "#T_7f841_row6_col2 {\n",
              "  background-color: #eaf2fb;\n",
              "  color: #000000;\n",
              "}\n",
              "#T_7f841_row7_col0 {\n",
              "  background-color: #e3eef9;\n",
              "  color: #000000;\n",
              "}\n",
              "#T_7f841_row7_col1 {\n",
              "  background-color: #e6f0f9;\n",
              "  color: #000000;\n",
              "}\n",
              "#T_7f841_row7_col2 {\n",
              "  background-color: #e5eff9;\n",
              "  color: #000000;\n",
              "}\n",
              "</style>\n",
              "<table id=\"T_7f841\" class=\"dataframe\">\n",
              "  <thead>\n",
              "    <tr>\n",
              "      <th class=\"blank level0\" >&nbsp;</th>\n",
              "      <th id=\"T_7f841_level0_col0\" class=\"col_heading level0 col0\" >math_score</th>\n",
              "      <th id=\"T_7f841_level0_col1\" class=\"col_heading level0 col1\" >reading_score</th>\n",
              "      <th id=\"T_7f841_level0_col2\" class=\"col_heading level0 col2\" >writing_score</th>\n",
              "    </tr>\n",
              "  </thead>\n",
              "  <tbody>\n",
              "    <tr>\n",
              "      <th id=\"T_7f841_level0_row0\" class=\"row_heading level0 row0\" >count</th>\n",
              "      <td id=\"T_7f841_row0_col0\" class=\"data row0 col0\" >1000.000000</td>\n",
              "      <td id=\"T_7f841_row0_col1\" class=\"data row0 col1\" >1000.000000</td>\n",
              "      <td id=\"T_7f841_row0_col2\" class=\"data row0 col2\" >1000.000000</td>\n",
              "    </tr>\n",
              "    <tr>\n",
              "      <th id=\"T_7f841_level0_row1\" class=\"row_heading level0 row1\" >mean</th>\n",
              "      <td id=\"T_7f841_row1_col0\" class=\"data row1 col0\" >66.089000</td>\n",
              "      <td id=\"T_7f841_row1_col1\" class=\"data row1 col1\" >69.169000</td>\n",
              "      <td id=\"T_7f841_row1_col2\" class=\"data row1 col2\" >68.054000</td>\n",
              "    </tr>\n",
              "    <tr>\n",
              "      <th id=\"T_7f841_level0_row2\" class=\"row_heading level0 row2\" >std</th>\n",
              "      <td id=\"T_7f841_row2_col0\" class=\"data row2 col0\" >15.163080</td>\n",
              "      <td id=\"T_7f841_row2_col1\" class=\"data row2 col1\" >14.600192</td>\n",
              "      <td id=\"T_7f841_row2_col2\" class=\"data row2 col2\" >15.195657</td>\n",
              "    </tr>\n",
              "    <tr>\n",
              "      <th id=\"T_7f841_level0_row3\" class=\"row_heading level0 row3\" >min</th>\n",
              "      <td id=\"T_7f841_row3_col0\" class=\"data row3 col0\" >0.000000</td>\n",
              "      <td id=\"T_7f841_row3_col1\" class=\"data row3 col1\" >17.000000</td>\n",
              "      <td id=\"T_7f841_row3_col2\" class=\"data row3 col2\" >10.000000</td>\n",
              "    </tr>\n",
              "    <tr>\n",
              "      <th id=\"T_7f841_level0_row4\" class=\"row_heading level0 row4\" >25%</th>\n",
              "      <td id=\"T_7f841_row4_col0\" class=\"data row4 col0\" >57.000000</td>\n",
              "      <td id=\"T_7f841_row4_col1\" class=\"data row4 col1\" >59.000000</td>\n",
              "      <td id=\"T_7f841_row4_col2\" class=\"data row4 col2\" >57.750000</td>\n",
              "    </tr>\n",
              "    <tr>\n",
              "      <th id=\"T_7f841_level0_row5\" class=\"row_heading level0 row5\" >50%</th>\n",
              "      <td id=\"T_7f841_row5_col0\" class=\"data row5 col0\" >66.000000</td>\n",
              "      <td id=\"T_7f841_row5_col1\" class=\"data row5 col1\" >70.000000</td>\n",
              "      <td id=\"T_7f841_row5_col2\" class=\"data row5 col2\" >69.000000</td>\n",
              "    </tr>\n",
              "    <tr>\n",
              "      <th id=\"T_7f841_level0_row6\" class=\"row_heading level0 row6\" >75%</th>\n",
              "      <td id=\"T_7f841_row6_col0\" class=\"data row6 col0\" >77.000000</td>\n",
              "      <td id=\"T_7f841_row6_col1\" class=\"data row6 col1\" >79.000000</td>\n",
              "      <td id=\"T_7f841_row6_col2\" class=\"data row6 col2\" >79.000000</td>\n",
              "    </tr>\n",
              "    <tr>\n",
              "      <th id=\"T_7f841_level0_row7\" class=\"row_heading level0 row7\" >max</th>\n",
              "      <td id=\"T_7f841_row7_col0\" class=\"data row7 col0\" >100.000000</td>\n",
              "      <td id=\"T_7f841_row7_col1\" class=\"data row7 col1\" >100.000000</td>\n",
              "      <td id=\"T_7f841_row7_col2\" class=\"data row7 col2\" >100.000000</td>\n",
              "    </tr>\n",
              "  </tbody>\n",
              "</table>\n"
            ]
          },
          "metadata": {},
          "execution_count": 13
        }
      ],
      "source": [
        "df.describe().style.background_gradient(cmap = \"Blues\")"
      ]
    },
    {
      "cell_type": "code",
      "execution_count": 14,
      "id": "c843f65f",
      "metadata": {
        "execution": {
          "iopub.execute_input": "2024-05-01T16:42:11.129003Z",
          "iopub.status.busy": "2024-05-01T16:42:11.128508Z",
          "iopub.status.idle": "2024-05-01T16:42:11.137532Z",
          "shell.execute_reply": "2024-05-01T16:42:11.136600Z"
        },
        "papermill": {
          "duration": 0.01821,
          "end_time": "2024-05-01T16:42:11.139308",
          "exception": false,
          "start_time": "2024-05-01T16:42:11.121098",
          "status": "completed"
        },
        "tags": [],
        "id": "c843f65f",
        "outputId": "fd4cd971-9cf4-4db6-e46e-89b065aa6d01",
        "colab": {
          "base_uri": "https://localhost:8080/"
        }
      },
      "outputs": [
        {
          "output_type": "execute_result",
          "data": {
            "text/plain": [
              "0"
            ]
          },
          "metadata": {},
          "execution_count": 14
        }
      ],
      "source": [
        "df.duplicated().sum()"
      ]
    },
    {
      "cell_type": "code",
      "execution_count": 15,
      "id": "2c9f02e5",
      "metadata": {
        "execution": {
          "iopub.execute_input": "2024-05-01T16:42:11.150953Z",
          "iopub.status.busy": "2024-05-01T16:42:11.150669Z",
          "iopub.status.idle": "2024-05-01T16:42:11.157756Z",
          "shell.execute_reply": "2024-05-01T16:42:11.156935Z"
        },
        "papermill": {
          "duration": 0.014965,
          "end_time": "2024-05-01T16:42:11.159545",
          "exception": false,
          "start_time": "2024-05-01T16:42:11.144580",
          "status": "completed"
        },
        "tags": [],
        "id": "2c9f02e5",
        "outputId": "16070279-721d-47bf-c13d-2f2277e8d2e3",
        "colab": {
          "base_uri": "https://localhost:8080/"
        }
      },
      "outputs": [
        {
          "output_type": "execute_result",
          "data": {
            "text/plain": [
              "gender                         0\n",
              "race_ethnicity                 0\n",
              "parental_level_of_education    0\n",
              "lunch                          0\n",
              "test_preparation_course        0\n",
              "math_score                     0\n",
              "reading_score                  0\n",
              "writing_score                  0\n",
              "dtype: int64"
            ]
          },
          "metadata": {},
          "execution_count": 15
        }
      ],
      "source": [
        "df.isnull().sum()"
      ]
    },
    {
      "cell_type": "code",
      "execution_count": 16,
      "id": "fa612b5e",
      "metadata": {
        "execution": {
          "iopub.execute_input": "2024-05-01T16:42:11.171043Z",
          "iopub.status.busy": "2024-05-01T16:42:11.170774Z",
          "iopub.status.idle": "2024-05-01T16:42:11.177678Z",
          "shell.execute_reply": "2024-05-01T16:42:11.176687Z"
        },
        "papermill": {
          "duration": 0.014454,
          "end_time": "2024-05-01T16:42:11.179208",
          "exception": false,
          "start_time": "2024-05-01T16:42:11.164754",
          "status": "completed"
        },
        "tags": [],
        "id": "fa612b5e",
        "outputId": "bdbbf868-45e5-4f00-d6ca-89d1adac646a",
        "colab": {
          "base_uri": "https://localhost:8080/"
        }
      },
      "outputs": [
        {
          "output_type": "execute_result",
          "data": {
            "text/plain": [
              "gender\n",
              "female    518\n",
              "male      482\n",
              "Name: count, dtype: int64"
            ]
          },
          "metadata": {},
          "execution_count": 16
        }
      ],
      "source": [
        "df['gender'].value_counts()"
      ]
    },
    {
      "cell_type": "code",
      "execution_count": 17,
      "id": "62fb3132",
      "metadata": {
        "execution": {
          "iopub.execute_input": "2024-05-01T16:42:11.191602Z",
          "iopub.status.busy": "2024-05-01T16:42:11.190777Z",
          "iopub.status.idle": "2024-05-01T16:42:11.388284Z",
          "shell.execute_reply": "2024-05-01T16:42:11.387310Z"
        },
        "papermill": {
          "duration": 0.205583,
          "end_time": "2024-05-01T16:42:11.390093",
          "exception": false,
          "start_time": "2024-05-01T16:42:11.184510",
          "status": "completed"
        },
        "tags": [],
        "id": "62fb3132",
        "outputId": "2db4034e-c443-47fe-efd7-355147c627c1",
        "colab": {
          "base_uri": "https://localhost:8080/",
          "height": 518
        }
      },
      "outputs": [
        {
          "output_type": "display_data",
          "data": {
            "text/plain": [
              "<Figure size 500x500 with 1 Axes>"
            ],
            "image/png": "[encoded data removed]"
          },
          "metadata": {}
        }
      ],
      "source": [
        "df[\"gender\"].value_counts().plot.bar(figsize=(5,5))\n",
        "plt.title(\"Gender Frequency\",fontsize=10)\n",
        "plt.show()"
      ]
    },
    {
      "cell_type": "code",
      "execution_count": 18,
      "id": "15853000",
      "metadata": {
        "execution": {
          "iopub.execute_input": "2024-05-01T16:42:11.403950Z",
          "iopub.status.busy": "2024-05-01T16:42:11.403102Z",
          "iopub.status.idle": "2024-05-01T16:42:11.410642Z",
          "shell.execute_reply": "2024-05-01T16:42:11.409686Z"
        },
        "papermill": {
          "duration": 0.016123,
          "end_time": "2024-05-01T16:42:11.412387",
          "exception": false,
          "start_time": "2024-05-01T16:42:11.396264",
          "status": "completed"
        },
        "tags": [],
        "id": "15853000",
        "outputId": "f0593ee6-89e8-4e72-c3ad-f422426df249",
        "colab": {
          "base_uri": "https://localhost:8080/"
        }
      },
      "outputs": [
        {
          "output_type": "execute_result",
          "data": {
            "text/plain": [
              "parental_level_of_education\n",
              "some college          226\n",
              "associate's degree    222\n",
              "high school           196\n",
              "some high school      179\n",
              "bachelor's degree     118\n",
              "master's degree        59\n",
              "Name: count, dtype: int64"
            ]
          },
          "metadata": {},
          "execution_count": 18
        }
      ],
      "source": [
        "df[\"parental_level_of_education\"].value_counts()"
      ]
    },
    {
      "cell_type": "code",
      "execution_count": 19,
      "id": "45fbbe82",
      "metadata": {
        "execution": {
          "iopub.execute_input": "2024-05-01T16:42:11.425573Z",
          "iopub.status.busy": "2024-05-01T16:42:11.425273Z",
          "iopub.status.idle": "2024-05-01T16:42:11.579411Z",
          "shell.execute_reply": "2024-05-01T16:42:11.578450Z"
        },
        "papermill": {
          "duration": 0.163997,
          "end_time": "2024-05-01T16:42:11.582379",
          "exception": false,
          "start_time": "2024-05-01T16:42:11.418382",
          "status": "completed"
        },
        "tags": [],
        "id": "45fbbe82",
        "outputId": "ab7a952a-cf7a-4e49-82c2-8f888ecf96fe",
        "colab": {
          "base_uri": "https://localhost:8080/",
          "height": 442
        }
      },
      "outputs": [
        {
          "output_type": "display_data",
          "data": {
            "text/plain": [
              "<Figure size 640x480 with 1 Axes>"
            ],
            "image/png": "[encoded data removed]"
          },
          "metadata": {}
        },
        {
          "output_type": "display_data",
          "data": {
            "text/plain": [
              "<Figure size 1000x500 with 0 Axes>"
            ]
          },
          "metadata": {}
        }
      ],
      "source": [
        "data=df[\"parental_level_of_education\"].value_counts()\n",
        "colors=('lightblue','pink','gray','purple','navy','brown')\n",
        "data.plot(kind='pie', colors=colors, shadow=True)\n",
        "plt.title(\"Distribution of Level of Education\", loc='center',color='Black', fontsize=10, fontweight='bold')\n",
        "fig= plt.figure(figsize=(10,5))\n",
        "plt.show()"
      ]
    },
    {
      "cell_type": "code",
      "execution_count": 20,
      "id": "c16b3d82",
      "metadata": {
        "execution": {
          "iopub.execute_input": "2024-05-01T16:42:11.596797Z",
          "iopub.status.busy": "2024-05-01T16:42:11.596031Z",
          "iopub.status.idle": "2024-05-01T16:42:11.602754Z",
          "shell.execute_reply": "2024-05-01T16:42:11.602087Z"
        },
        "papermill": {
          "duration": 0.01562,
          "end_time": "2024-05-01T16:42:11.604341",
          "exception": false,
          "start_time": "2024-05-01T16:42:11.588721",
          "status": "completed"
        },
        "tags": [],
        "id": "c16b3d82",
        "outputId": "9cffb3d7-7cc5-411f-c311-e96f1749befe",
        "colab": {
          "base_uri": "https://localhost:8080/"
        }
      },
      "outputs": [
        {
          "output_type": "execute_result",
          "data": {
            "text/plain": [
              "race_ethnicity\n",
              "group C    319\n",
              "group D    262\n",
              "group B    190\n",
              "group E    140\n",
              "group A     89\n",
              "Name: count, dtype: int64"
            ]
          },
          "metadata": {},
          "execution_count": 20
        }
      ],
      "source": [
        "df[\"race_ethnicity\"].value_counts()"
      ]
    },
    {
      "cell_type": "code",
      "execution_count": 21,
      "id": "419de642",
      "metadata": {
        "execution": {
          "iopub.execute_input": "2024-05-01T16:42:11.618711Z",
          "iopub.status.busy": "2024-05-01T16:42:11.618407Z",
          "iopub.status.idle": "2024-05-01T16:42:11.721211Z",
          "shell.execute_reply": "2024-05-01T16:42:11.719359Z"
        },
        "papermill": {
          "duration": 0.112481,
          "end_time": "2024-05-01T16:42:11.723349",
          "exception": false,
          "start_time": "2024-05-01T16:42:11.610868",
          "status": "completed"
        },
        "tags": [],
        "id": "419de642",
        "outputId": "a068f7c8-2d23-418e-c4ba-71a258ab2173",
        "colab": {
          "base_uri": "https://localhost:8080/",
          "height": 430
        }
      },
      "outputs": [
        {
          "output_type": "display_data",
          "data": {
            "text/plain": [
              "<Figure size 640x480 with 1 Axes>"
            ],
            "image/png": "[encoded data removed]"
          },
          "metadata": {}
        }
      ],
      "source": [
        "df[\"race_ethnicity\"].value_counts()\n",
        "labels=['group A', 'group B', 'group C', 'group D', 'group E']\n",
        "colors=['purple','gray','brown','black','Red']\n",
        "plt.pie(df[\"race_ethnicity\"].value_counts(), labels=labels, colors=colors)\n",
        "plt.axis('equal')\n",
        "plt.title(\"Race Ethnicity\", loc='center', color='Blue', fontsize='15')\n",
        "plt.gca().add_artist(plt.Circle(xy=(0,0),radius=0.75, facecolor='white'))\n",
        "plt.show()"
      ]
    },
    {
      "cell_type": "code",
      "execution_count": 22,
      "id": "c316f7d7",
      "metadata": {
        "execution": {
          "iopub.execute_input": "2024-05-01T16:42:11.738729Z",
          "iopub.status.busy": "2024-05-01T16:42:11.738389Z",
          "iopub.status.idle": "2024-05-01T16:42:12.110464Z",
          "shell.execute_reply": "2024-05-01T16:42:12.109343Z"
        },
        "papermill": {
          "duration": 0.382027,
          "end_time": "2024-05-01T16:42:12.112332",
          "exception": false,
          "start_time": "2024-05-01T16:42:11.730305",
          "status": "completed"
        },
        "tags": [],
        "id": "c316f7d7",
        "outputId": "4b59af12-7f46-4553-9105-17c88a5679d1",
        "colab": {
          "base_uri": "https://localhost:8080/",
          "height": 600
        }
      },
      "outputs": [
        {
          "output_type": "display_data",
          "data": {
            "text/plain": [
              "<Figure size 1309.24x600 with 1 Axes>"
            ],
            "image/png": "[encoded data removed]"
          },
          "metadata": {}
        }
      ],
      "source": [
        "ax = sns.catplot(kind='count', data=df, x='lunch', hue='race_ethnicity',height=6, aspect=2 )\n",
        "ax.set_xlabels('Lunch', fontsize=8)\n",
        "ax.legend.set_title('Race Ethnicity')\n",
        "plt.title('Lunch of each group',fontsize=15)\n",
        "plt.show()"
      ]
    },
    {
      "cell_type": "code",
      "execution_count": 23,
      "id": "ba711f78",
      "metadata": {
        "execution": {
          "iopub.execute_input": "2024-05-01T16:42:12.128525Z",
          "iopub.status.busy": "2024-05-01T16:42:12.127993Z",
          "iopub.status.idle": "2024-05-01T16:42:12.740766Z",
          "shell.execute_reply": "2024-05-01T16:42:12.739872Z"
        },
        "papermill": {
          "duration": 0.622996,
          "end_time": "2024-05-01T16:42:12.742611",
          "exception": false,
          "start_time": "2024-05-01T16:42:12.119615",
          "status": "completed"
        },
        "tags": [],
        "id": "ba711f78",
        "outputId": "f147e004-cb06-40c6-adfa-3f6c621ad802",
        "colab": {
          "base_uri": "https://localhost:8080/",
          "height": 1000
        }
      },
      "outputs": [
        {
          "output_type": "display_data",
          "data": {
            "text/plain": [
              "<Figure size 361.111x500 with 1 Axes>"
            ],
            "image/png": "[encoded data removed]"
          },
          "metadata": {}
        },
        {
          "output_type": "display_data",
          "data": {
            "text/plain": [
              "<Figure size 361.111x500 with 1 Axes>"
            ],
            "image/png": "[encoded data removed]"
          },
          "metadata": {}
        },
        {
          "output_type": "display_data",
          "data": {
            "text/plain": [
              "<Figure size 361.111x500 with 1 Axes>"
            ],
            "image/png": "[encoded data removed]"
          },
          "metadata": {}
        }
      ],
      "source": [
        "t1 = sns.catplot(data=df, x=\"test_preparation_course\", y=\"math_score\",kind=\"bar\", height=5, aspect=.7)\n",
        "t2 = sns.catplot(data=df, x=\"test_preparation_course\", y=\"reading_score\",kind=\"bar\", height=5, aspect=.7)\n",
        "t3 = sns.catplot(data=df, x=\"test_preparation_course\", y=\"writing_score\",kind=\"bar\", height=5, aspect=.7)\n",
        "plt.show()"
      ]
    }
  ],
  "metadata": {
    "kaggle": {
      "accelerator": "none",
      "dataSources": [
        {
          "datasetId": 4553641,
          "sourceId": 7781455,
          "sourceType": "datasetVersion"
        }
      ],
      "dockerImageVersionId": 30698,
      "isGpuEnabled": false,
      "isInternetEnabled": true,
      "language": "python",
      "sourceType": "notebook"
    },
    "kernelspec": {
      "display_name": "Python 3",
      "language": "python",
      "name": "python3"
    },
    "language_info": {
      "codemirror_mode": {
        "name": "ipython",
        "version": 3
      },
      "file_extension": ".py",
      "mimetype": "text/x-python",
      "name": "python",
      "nbconvert_exporter": "python",
      "pygments_lexer": "ipython3",
      "version": "3.10.13"
    },
    "papermill": {
      "default_parameters": {},
      "duration": 7.020317,
      "end_time": "2024-05-01T16:42:13.283112",
      "environment_variables": {},
      "exception": null,
      "input_path": "__notebook__.ipynb",
      "output_path": "__notebook__.ipynb",
      "parameters": {},
      "start_time": "2024-05-01T16:42:06.262795",
      "version": "2.5.0"
    },
    "colab": {
      "provenance": []
    }
  },
  "nbformat": 4,
  "nbformat_minor": 5
}